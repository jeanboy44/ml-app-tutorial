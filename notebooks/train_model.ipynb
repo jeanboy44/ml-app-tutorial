{
 "cells": [
  {
   "cell_type": "markdown",
   "metadata": {},
   "source": [
    "# yolov5 모델 학습하기"
   ]
  },
  {
   "cell_type": "markdown",
   "metadata": {},
   "source": [
    "## 모델 학습 및 평가"
   ]
  },
  {
   "cell_type": "code",
   "execution_count": null,
   "metadata": {},
   "outputs": [],
   "source": [
    "from PIL import Image\n",
    "from pathlib import Path\n",
    "from ultralytics import YOLO\n",
    "working_dir = Path(\"/Users/jeanboy/workspace/ml-app-tutorial\")\n",
    "model = YOLO('yolov5su.pt')\n",
    "results = model.train(data='data/filtered_data200/data.yaml', epochs=3)"
   ]
  },
  {
   "cell_type": "markdown",
   "metadata": {},
   "source": [
    "## 학습된 모델을 활용하여 예측"
   ]
  },
  {
   "cell_type": "code",
   "execution_count": null,
   "metadata": {},
   "outputs": [],
   "source": [
    "save_dir = \"../runs/mlflow/detect/train\" # 학습 로그를 확인하여 입력\n",
    "image_path = \"data/filtered_data200/test/images/02_021_02011027_160655908976565_0_jpeg.rf.1468ccfe1571b554f3aeee8fd4914f89.jpg\" # 이미지 경로\n",
    "# image_path = \"data/filtered_data200/test/images/Img_058_0191_jpg.rf.cff970fc226e826de067ce5aea4e61fa.jpg\" # 이미지 경로\n",
    "# image_path = \"data/KoreanFOOD_Detecting/test/images/Img_119_0004_jpg.rf.f0015227fa22eb225471725f1ff18f91.jpg\" # 이미지 경로\n",
    "\n",
    "model = YOLO(working_dir/save_dir/\"weights\"/\"best.pt\")\n",
    "image = Image.open(image_path)\n",
    "results = model(image)\n",
    "results[0].save()"
   ]
  }
 ],
 "metadata": {
  "kernelspec": {
   "display_name": ".venv",
   "language": "python",
   "name": "python3"
  },
  "language_info": {
   "codemirror_mode": {
    "name": "ipython",
    "version": 3
   },
   "file_extension": ".py",
   "mimetype": "text/x-python",
   "name": "python",
   "nbconvert_exporter": "python",
   "pygments_lexer": "ipython3",
   "version": "3.12.3"
  }
 },
 "nbformat": 4,
 "nbformat_minor": 2
}
