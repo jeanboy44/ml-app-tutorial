{
 "cells": [
  {
   "cell_type": "markdown",
   "metadata": {},
   "source": [
    "# yolov5 모델 학습하기(배경 이미지 없음)"
   ]
  },
  {
   "cell_type": "markdown",
   "metadata": {},
   "source": [
    "## 모델 학습 및 평가"
   ]
  },
  {
   "cell_type": "code",
   "execution_count": null,
   "metadata": {},
   "outputs": [],
   "source": [
    "import os\n",
    "from pathlib import Path\n",
    "\n",
    "import cv2\n",
    "import matplotlib.pyplot as plt\n",
    "import mlflow\n",
    "from PIL import Image\n",
    "from ultralytics import YOLO\n",
    "\n",
    "working_dir = Path(os.environ.get(\"WORKING_DIRECTORY\"))\n",
    "mlflow_uri =  os.environ.get(\"MLFLOW_URI\")\n",
    "mlflow.set_tracking_uri(mlflow_uri)\n",
    "\n",
    "experiment = mlflow.get_experiment_by_name(\"train_base_model\")\n",
    "if experiment is None:\n",
    "    experiment_id = mlflow.create_experiment(\"train_base_model\")\n",
    "    print(\"Experiment train_base_model is created\")\n",
    "else:\n",
    "    experiment_id = experiment.experiment_id\n",
    "\n",
    "data_name = 'data/filtered_data_nobg/data.yaml'\n",
    "# Start an MLflow run\n",
    "with mlflow.start_run(experiment_id=experiment_id) as run:\n",
    "    # Load and train your YOLOv5 model\n",
    "    model = YOLO('yolov5su.pt')\n",
    "    results = model.train(data=data_name, epochs=3)\n",
    "\n",
    "    # Log parameters, metrics, and model\n",
    "    mlflow.log_params({\"epochs\": 1, \"model\": \"yolov5su.pt\", \"data\": data_name})\n",
    "    metrics = {key.replace(\"(B)\", \"\"):value for key, value in results.results_dict.items()}\n",
    "    mlflow.log_metrics(metrics)\n",
    "    mlflow.log_artifact(local_path=working_dir / results.save_dir / \"weights\" / \"best.pt\")\n",
    "\n",
    "    # Register model\n",
    "    mlflow.register_model(\n",
    "            f\"runs:/{run.info.run_id}/yolov5_model\", \"yolov5_model\"\n",
    "        )\n",
    "    \n",
    "    # End the run\n",
    "    mlflow.end_run()"
   ]
  },
  {
   "cell_type": "markdown",
   "metadata": {},
   "source": [
    "## 학습된 모델을 활용하여 예측"
   ]
  },
  {
   "cell_type": "code",
   "execution_count": null,
   "metadata": {},
   "outputs": [],
   "source": [
    "%matplotlib inline\n",
    "\n",
    "save_dir = \"../runs/mlflow/detect/train8\" # 학습 로그를 확인하여 입력\n",
    "image_path = \"data/filtered_data200/test/images/02_021_02011027_160655908976565_0_jpeg.rf.1468ccfe1571b554f3aeee8fd4914f89.jpg\" # 이미지 경로\n",
    "# image_path = \"data/filtered_data200/test/images/Img_058_0191_jpg.rf.cff970fc226e826de067ce5aea4e61fa.jpg\" # 이미지 경로\n",
    "# image_path = \"data/KoreanFOOD_Detecting/test/images/Img_119_0004_jpg.rf.f0015227fa22eb225471725f1ff18f91.jpg\" # 이미지 경로\n",
    "\n",
    "model = YOLO(working_dir/save_dir/\"weights\"/\"best.pt\")\n",
    "image = Image.open(image_path)\n",
    "results = model(image)\n",
    "image_bgr = cv2.cvtColor(results[0].plot(), cv2.COLOR_RGB2BGR)\n",
    "plt.imshow(image_bgr)\n",
    "plt.axis(\"off\")\n",
    "plt.show()\n"
   ]
  }
 ],
 "metadata": {
  "kernelspec": {
   "display_name": ".venv",
   "language": "python",
   "name": "python3"
  },
  "language_info": {
   "codemirror_mode": {
    "name": "ipython",
    "version": 3
   },
   "file_extension": ".py",
   "mimetype": "text/x-python",
   "name": "python",
   "nbconvert_exporter": "python",
   "pygments_lexer": "ipython3",
   "version": "3.12.3"
  }
 },
 "nbformat": 4,
 "nbformat_minor": 2
}
